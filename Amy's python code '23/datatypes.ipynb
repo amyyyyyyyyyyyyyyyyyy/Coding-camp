{
 "cells": [
  {
   "cell_type": "code",
   "execution_count": 1,
   "metadata": {},
   "outputs": [],
   "source": [
    "#declare school\n",
    "school = \"Strathmore\""
   ]
  },
  {
   "cell_type": "code",
   "execution_count": 2,
   "metadata": {},
   "outputs": [
    {
     "data": {
      "text/plain": [
       "'Strathmore'"
      ]
     },
     "execution_count": 2,
     "metadata": {},
     "output_type": "execute_result"
    }
   ],
   "source": [
    "\n",
    "school #school"
   ]
  },
  {
   "cell_type": "code",
   "execution_count": 3,
   "metadata": {},
   "outputs": [],
   "source": [
    "school = 'Strath'# single quote"
   ]
  },
  {
   "cell_type": "code",
   "execution_count": 4,
   "metadata": {},
   "outputs": [],
   "source": [
    "# intergers datatype\n",
    "# declare 30\n",
    "num1 = 30"
   ]
  },
  {
   "cell_type": "code",
   "execution_count": 5,
   "metadata": {},
   "outputs": [],
   "source": [
    "# Example 1: Variables and data types\n",
    "age = 15\n",
    "name = \"Alice\"\n",
    "height = 5.6\n",
    "is_student = True"
   ]
  },
  {
   "cell_type": "code",
   "execution_count": 6,
   "metadata": {},
   "outputs": [],
   "source": [
    "# intergers datatype\n",
    "# declare 30\n",
    "num1 = 30\n",
    "#float\n",
    "hght1_cm = 32.4 \n"
   ]
  },
  {
   "cell_type": "code",
   "execution_count": 41,
   "metadata": {},
   "outputs": [
    {
     "name": "stdout",
     "output_type": "stream",
     "text": [
      "Hello, Amy\n"
     ]
    }
   ],
   "source": [
    "# Example 2: User Input and Output\n",
    "name = input(\"Enter your name: \")\n",
    "print(\"Hello, \"+ name)"
   ]
  },
  {
   "cell_type": "code",
   "execution_count": null,
   "metadata": {},
   "outputs": [
    {
     "name": "stdout",
     "output_type": "stream",
     "text": [
      "80\n",
      "90\n"
     ]
    }
   ],
   "source": [
    "# Declare and use integer variables\n",
    "age = 15\n",
    "score = 80\n",
    "\n",
    "#Perform arithmetic operations with integer\n",
    "total_score = score + 10\n",
    "\n",
    "print(score)\n",
    "#call total score\n",
    "print(total_score)"
   ]
  },
  {
   "cell_type": "code",
   "execution_count": null,
   "metadata": {},
   "outputs": [
    {
     "ename": "NameError",
     "evalue": "name 'Age' is not defined",
     "output_type": "error",
     "traceback": [
      "\u001b[0;31m---------------------------------------------------------------------------\u001b[0m",
      "\u001b[0;31mNameError\u001b[0m                                 Traceback (most recent call last)",
      "\u001b[1;32m/Volumes/AMY/Amy's python code '23/datatypes.ipynb Cell 9\u001b[0m line \u001b[0;36m1\n\u001b[0;32m----> <a href='vscode-notebook-cell:/Volumes/AMY/Amy%27s%20python%20code%20%2723/datatypes.ipynb#X11sZmlsZQ%3D%3D?line=0'>1</a>\u001b[0m \u001b[39mprint\u001b[39m(Age)\n",
      "\u001b[0;31mNameError\u001b[0m: name 'Age' is not defined"
     ]
    }
   ],
   "source": [
    "print(Age)"
   ]
  },
  {
   "cell_type": "code",
   "execution_count": null,
   "metadata": {},
   "outputs": [
    {
     "name": "stdout",
     "output_type": "stream",
     "text": [
      "15\n"
     ]
    }
   ],
   "source": [
    "print(age)"
   ]
  },
  {
   "cell_type": "markdown",
   "metadata": {},
   "source": [
    "Floats: are numbers with decimal points"
   ]
  },
  {
   "cell_type": "code",
   "execution_count": 2,
   "metadata": {},
   "outputs": [
    {
     "name": "stdout",
     "output_type": "stream",
     "text": [
      "1.4508928571428574\n"
     ]
    }
   ],
   "source": [
    "#Declare and use float variables\n",
    "height_cm = 5.6\n",
    "weight_kg = 45.5\n",
    "\n",
    "#Perform arithmetic operations with floats\n",
    "bmi = weight_kg / (height_cm ** 2)\n",
    "print(bmi)"
   ]
  },
  {
   "cell_type": "code",
   "execution_count": 3,
   "metadata": {},
   "outputs": [],
   "source": [
    "# Declare and use string variables\n",
    "name = \"Alice\"\n",
    "city = 'New York'\n",
    "\n",
    "#Perform string concatenaction and slicing\n",
    "greeting = \"Hello, \" + name\n",
    "first_initial =name[0]"
   ]
  },
  {
   "cell_type": "code",
   "execution_count": 4,
   "metadata": {},
   "outputs": [],
   "source": [
    "#I am calling a student\n",
    "is_student = True\n",
    "is_adult = False"
   ]
  },
  {
   "cell_type": "code",
   "execution_count": 5,
   "metadata": {},
   "outputs": [
    {
     "name": "stdout",
     "output_type": "stream",
     "text": [
      "True\n"
     ]
    }
   ],
   "source": [
    "print(is_student)\n"
   ]
  },
  {
   "cell_type": "code",
   "execution_count": 6,
   "metadata": {},
   "outputs": [],
   "source": [
    "#Use boolean operators\n",
    "is_teenager = not is_adult\n",
    "is_school_day = True and is_student"
   ]
  },
  {
   "cell_type": "code",
   "execution_count": 7,
   "metadata": {},
   "outputs": [
    {
     "name": "stdout",
     "output_type": "stream",
     "text": [
      "True\n"
     ]
    }
   ],
   "source": [
    "print(is_student)"
   ]
  },
  {
   "cell_type": "code",
   "execution_count": 8,
   "metadata": {},
   "outputs": [
    {
     "name": "stdout",
     "output_type": "stream",
     "text": [
      "False\n"
     ]
    }
   ],
   "source": [
    "is_child = not is_student\n",
    "print(is_child)"
   ]
  },
  {
   "cell_type": "markdown",
   "metadata": {},
   "source": [
    "Type conversion:\n",
    "-You can convert between data types using built-in functions like int(), float(),str"
   ]
  },
  {
   "cell_type": "code",
   "execution_count": 9,
   "metadata": {},
   "outputs": [],
   "source": [
    "# Type conversion examples\n",
    "age_str = \"15\"\n",
    "age_int = int(age_str)\n",
    "height_float = float(\"5.6\")\n",
    "is_student_str = \"True\"\n",
    "is_student_bool = bool(is_student_str)"
   ]
  },
  {
   "cell_type": "code",
   "execution_count": 10,
   "metadata": {},
   "outputs": [
    {
     "data": {
      "text/plain": [
       "str"
      ]
     },
     "execution_count": 10,
     "metadata": {},
     "output_type": "execute_result"
    }
   ],
   "source": [
    "age_str= \"15\" # 15 in now a string\n",
    "type(age_str)"
   ]
  },
  {
   "cell_type": "code",
   "execution_count": 11,
   "metadata": {},
   "outputs": [
    {
     "data": {
      "text/plain": [
       "int"
      ]
     },
     "execution_count": 11,
     "metadata": {},
     "output_type": "execute_result"
    }
   ],
   "source": [
    "age_int = int(age_str) # convert to interger\n",
    "#check datatype\n",
    "type(age_int)"
   ]
  },
  {
   "cell_type": "code",
   "execution_count": 12,
   "metadata": {},
   "outputs": [
    {
     "name": "stdout",
     "output_type": "stream",
     "text": [
      "15.0\n"
     ]
    }
   ],
   "source": [
    "age_float = float(age_int)\n",
    "type(age_float)\n",
    "print(age_float)"
   ]
  },
  {
   "cell_type": "markdown",
   "metadata": {},
   "source": [
    "Common Operations:\n",
    "-Show some common operartions that can be perfomed on variables"
   ]
  },
  {
   "cell_type": "code",
   "execution_count": 13,
   "metadata": {},
   "outputs": [
    {
     "name": "stdout",
     "output_type": "stream",
     "text": [
      "The sum is: 15\n",
      "The sum is: 50\n",
      "The sum is: 5\n",
      "The sum is: 2.0\n"
     ]
    }
   ],
   "source": [
    "#  Example 3: Math Operations\n",
    "num1 = 10\n",
    "num2 = 5\n",
    "result = num1 + num2  ## Addition\n",
    "print(\"The sum is:\", result)\n",
    "result = num1 * num2 ## Multiplication\n",
    "print(\"The sum is:\", result)\n",
    "result = num1 - num2 ##Subtraction\n",
    "print(\"The sum is:\", result)\n",
    "result = num1 / num2 ## Division\n",
    "print(\"The sum is:\", result)  "
   ]
  },
  {
   "cell_type": "code",
   "execution_count": 14,
   "metadata": {},
   "outputs": [
    {
     "name": "stdout",
     "output_type": "stream",
     "text": [
      "[10, 50, 20]\n"
     ]
    },
    {
     "data": {
      "text/plain": [
       "True"
      ]
     },
     "execution_count": 14,
     "metadata": {},
     "output_type": "execute_result"
    }
   ],
   "source": [
    "mylist = list()\n",
    "mylist2 = [\"Adrian\", \"Felix\", \"Nyambura\"]\n",
    "marks = [10, 50, 20]\n",
    "marks2 = list(marks)\n",
    "mixed_list = [\"Apple\", 20, 56.6, \"Banana\"]\n",
    "print(marks)\n",
    "10 in marks"
   ]
  },
  {
   "cell_type": "code",
   "execution_count": 15,
   "metadata": {},
   "outputs": [
    {
     "name": "stdout",
     "output_type": "stream",
     "text": [
      "['lasagna', 'macaroons', 'cake', 'burgers']\n",
      "<class 'list'>\n",
      "4\n"
     ]
    }
   ],
   "source": [
    "foods= ['lasagna', 'macaroons', 'cake' , 'burgers']\n",
    "print(foods)\n",
    "print (type(foods))\n",
    "print(len(foods))"
   ]
  },
  {
   "cell_type": "code",
   "execution_count": 16,
   "metadata": {},
   "outputs": [
    {
     "name": "stdout",
     "output_type": "stream",
     "text": [
      "['lasagna', 'macaroons', 'cake', 'burgers', 'ice cream']\n"
     ]
    }
   ],
   "source": [
    "foods.append('ice cream')\n",
    "print(foods)\n"
   ]
  },
  {
   "cell_type": "code",
   "execution_count": 17,
   "metadata": {},
   "outputs": [],
   "source": [
    "# Example 6: Lists and Dictionaries\n",
    "fruits = [\"apple\", \"banana\", \"cherry\"]\n",
    "student = {\"name\": \"Alice\", \"age\": 15, \"grade\": 9}"
   ]
  },
  {
   "cell_type": "code",
   "execution_count": 18,
   "metadata": {},
   "outputs": [
    {
     "name": "stdout",
     "output_type": "stream",
     "text": [
      "banana\n"
     ]
    }
   ],
   "source": [
    "print(fruits[1])"
   ]
  },
  {
   "cell_type": "code",
   "execution_count": 21,
   "metadata": {},
   "outputs": [
    {
     "name": "stdout",
     "output_type": "stream",
     "text": [
      "{'name': 'Alice', 'age': 15, 'grade': 9, 'gender': 'female'}\n"
     ]
    }
   ],
   "source": [
    "student[\"gender\"] = \"female\"\n",
    "print(student)"
   ]
  },
  {
   "cell_type": "code",
   "execution_count": 32,
   "metadata": {},
   "outputs": [
    {
     "name": "stdout",
     "output_type": "stream",
     "text": [
      "5\n",
      "Is 3 in numbers? True\n",
      "Is 6 not in numbers? True\n"
     ]
    }
   ],
   "source": [
    "numbers = [1, 2, 3, 4, 5] \n",
    "print(len(numbers))\n",
    "\n",
    "#In\n",
    "result = 3 in numbers\n",
    "print(\"Is 3 in numbers?\", result) \n",
    "\n",
    "#Not in\n",
    "result = 6 not in numbers\n",
    "print(\"Is 6 not in numbers?\", result)"
   ]
  },
  {
   "cell_type": "code",
   "execution_count": 39,
   "metadata": {},
   "outputs": [
    {
     "name": "stdout",
     "output_type": "stream",
     "text": [
      "This is a long list\n"
     ]
    }
   ],
   "source": [
    "numbers = [1,2,3,4,5,6,7,8,9]\n",
    "if len (numbers)>5:\n",
    "    print('This is a long list')\n",
    "elif len(numbers) == 8:\n",
    "     print(\"klklkllk\")\n",
    "else: \n",
    "     print('This is a short list')"
   ]
  },
  {
   "cell_type": "code",
   "execution_count": 43,
   "metadata": {},
   "outputs": [
    {
     "name": "stdout",
     "output_type": "stream",
     "text": [
      "1\n",
      "3\n",
      "5\n",
      "7\n",
      "9\n"
     ]
    }
   ],
   "source": [
    "for i in range(1, 10, 2):\n",
    "    print(i)"
   ]
  },
  {
   "cell_type": "code",
   "execution_count": 1,
   "metadata": {},
   "outputs": [],
   "source": [
    "numbers = [10,20,30,40,50,60]\n",
    "\n",
    "def myFunction(numbers):\n",
    "    \"\"\"this function takes in a list of intergers, \n",
    "    returns the interger and sums it up by 10\"\"\"\n",
    "    for i in range(len(numbers)):\n",
    "        numbers[i]+=10\n",
    "    return numbers"
   ]
  },
  {
   "cell_type": "code",
   "execution_count": 2,
   "metadata": {},
   "outputs": [
    {
     "name": "stdout",
     "output_type": "stream",
     "text": [
      "Help on function myFunction in module __main__:\n",
      "\n",
      "myFunction(numbers)\n",
      "    this function takes in a list of intergers,\n",
      "    returns the interger and sums it up by 10\n",
      "\n"
     ]
    }
   ],
   "source": [
    "help(myFunction)"
   ]
  },
  {
   "cell_type": "code",
   "execution_count": 50,
   "metadata": {},
   "outputs": [
    {
     "data": {
      "text/plain": [
       "[20, 30, 40, 50, 60, 70]"
      ]
     },
     "execution_count": 50,
     "metadata": {},
     "output_type": "execute_result"
    }
   ],
   "source": [
    "myFunction(numbers)"
   ]
  },
  {
   "cell_type": "code",
   "execution_count": 52,
   "metadata": {},
   "outputs": [
    {
     "data": {
      "text/plain": [
       "[110, 310, 510]"
      ]
     },
     "execution_count": 52,
     "metadata": {},
     "output_type": "execute_result"
    }
   ],
   "source": [
    "new_list = [100,300,500]   \n",
    "myFunction(new_list)                                                                         "
   ]
  },
  {
   "cell_type": "code",
   "execution_count": 1,
   "metadata": {},
   "outputs": [
    {
     "data": {
      "text/plain": [
       "1.6"
      ]
     },
     "execution_count": 1,
     "metadata": {},
     "output_type": "execute_result"
    }
   ],
   "source": [
    "8 / 5"
   ]
  },
  {
   "cell_type": "code",
   "execution_count": 2,
   "metadata": {},
   "outputs": [
    {
     "data": {
      "text/plain": [
       "3"
      ]
     },
     "execution_count": 2,
     "metadata": {},
     "output_type": "execute_result"
    }
   ],
   "source": [
    "8 % 5"
   ]
  },
  {
   "cell_type": "code",
   "execution_count": 3,
   "metadata": {},
   "outputs": [
    {
     "data": {
      "text/plain": [
       "1"
      ]
     },
     "execution_count": 3,
     "metadata": {},
     "output_type": "execute_result"
    }
   ],
   "source": [
    "8//5"
   ]
  },
  {
   "cell_type": "markdown",
   "metadata": {},
   "source": [
    "Recap"
   ]
  },
  {
   "cell_type": "code",
   "execution_count": 4,
   "metadata": {},
   "outputs": [
    {
     "name": "stdout",
     "output_type": "stream",
     "text": [
      "0.625\n"
     ]
    }
   ],
   "source": [
    "# Division\n",
    "print (5/8)"
   ]
  },
  {
   "cell_type": "code",
   "execution_count": 5,
   "metadata": {},
   "outputs": [
    {
     "name": "stdout",
     "output_type": "stream",
     "text": [
      "17\n"
     ]
    }
   ],
   "source": [
    "# Addition\n",
    "print (7 +10)"
   ]
  },
  {
   "cell_type": "code",
   "execution_count": null,
   "metadata": {},
   "outputs": [],
   "source": []
  }
 ],
 "metadata": {
  "kernelspec": {
   "display_name": "mawingu",
   "language": "python",
   "name": "python3"
  },
  "language_info": {
   "codemirror_mode": {
    "name": "ipython",
    "version": 3
   },
   "file_extension": ".py",
   "mimetype": "text/x-python",
   "name": "python",
   "nbconvert_exporter": "python",
   "pygments_lexer": "ipython3",
   "version": "3.12.0"
  },
  "vscode": {
   "interpreter": {
    "hash": "8a5edab282632443219e051e4ade2d1d5bbc671c781051bf1437897cbdfea0f1"
   }
  }
 },
 "nbformat": 4,
 "nbformat_minor": 2
}
